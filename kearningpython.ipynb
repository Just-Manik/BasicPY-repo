{
 "cells": [
  {
   "cell_type": "code",
   "execution_count": null,
   "id": "66af2841",
   "metadata": {},
   "outputs": [],
   "source": [
    "print(\"HEllo world\")"
   ]
  }
 ],
 "metadata": {
  "kernelspec": {
   "display_name": "Python (venv)",
   "language": "python",
   "name": "venv"
  },
  "language_info": {
   "name": "python",
   "version": "3.12.0"
  }
 },
 "nbformat": 4,
 "nbformat_minor": 5
}
