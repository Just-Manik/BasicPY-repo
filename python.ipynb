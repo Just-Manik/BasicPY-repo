{
 "cells": [
  {
   "cell_type": "markdown",
   "id": "1cac43ea",
   "metadata": {},
   "source": [
    "swapping in python"
   ]
  },
  {
   "cell_type": "code",
   "execution_count": 24,
   "id": "5ed330cb",
   "metadata": {},
   "outputs": [
    {
     "name": "stdout",
     "output_type": "stream",
     "text": [
      "20 10\n"
     ]
    }
   ],
   "source": [
    "x=10\n",
    "y=20\n",
    "x,y=y,x\n",
    "print(x,y) "
   ]
  },
  {
   "cell_type": "markdown",
   "id": "13a3f374",
   "metadata": {},
   "source": [
    "id() function"
   ]
  },
  {
   "cell_type": "code",
   "execution_count": 25,
   "id": "88e3b5c6",
   "metadata": {},
   "outputs": [
    {
     "name": "stdout",
     "output_type": "stream",
     "text": [
      "140708107438808\n",
      "True\n",
      "True\n",
      "False\n"
     ]
    }
   ],
   "source": [
    "a=10\n",
    "print(id(a))\n",
    "b=10\n",
    "print(a is b)\n",
    "c=a\n",
    "print(c is b)\n",
    "c=20\n",
    "print(c is b) #the task of id function is to provide unique identifiers"
   ]
  },
  {
   "cell_type": "markdown",
   "id": "6582a5ed",
   "metadata": {},
   "source": [
    "type() function"
   ]
  },
  {
   "cell_type": "code",
   "execution_count": 26,
   "id": "894b65c0",
   "metadata": {},
   "outputs": [
    {
     "name": "stdout",
     "output_type": "stream",
     "text": [
      "<class 'int'>\n",
      "<class 'float'>\n",
      "<class 'complex'>\n"
     ]
    }
   ],
   "source": [
    "a=10\n",
    "print(type(a))\n",
    "b=10.5\n",
    "print(type(b))\n",
    "c=2+4j\n",
    "print(type(c))"
   ]
  },
  {
   "cell_type": "code",
   "execution_count": 27,
   "id": "8cc2bb6f",
   "metadata": {},
   "outputs": [
    {
     "name": "stdout",
     "output_type": "stream",
     "text": [
      "<class 'bool'>\n",
      "<class 'NoneType'>\n"
     ]
    }
   ],
   "source": [
    "a= True\n",
    "print(type(a))\n",
    "b=None\n",
    "print(type(b))"
   ]
  },
  {
   "cell_type": "code",
   "execution_count": 28,
   "id": "89714fc2",
   "metadata": {},
   "outputs": [
    {
     "name": "stdout",
     "output_type": "stream",
     "text": [
      "<class 'str'>\n",
      "<class 'list'>\n",
      "<class 'tuple'>\n",
      "<class 'set'>\n",
      "<class 'dict'>\n"
     ]
    }
   ],
   "source": [
    "str=\"gfg\"\n",
    "print(type(str))\n",
    "l=[10,20,30]\n",
    "print(type(l))\n",
    "t=(10,20,30)\n",
    "print(type(t))\n",
    "s={10,20,30}\n",
    "print(type(s))\n",
    "d={19:\"gfg\",20:\"ide\" }\n",
    "print(type(d))"
   ]
  },
  {
   "cell_type": "markdown",
   "id": "0fb3b482",
   "metadata": {},
   "source": [
    "list in python"
   ]
  },
  {
   "cell_type": "code",
   "execution_count": 29,
   "id": "0d266549",
   "metadata": {},
   "outputs": [
    {
     "name": "stdout",
     "output_type": "stream",
     "text": [
      "[10, 20, 30, 40, 50]\n",
      "40\n",
      "50\n",
      "40\n"
     ]
    }
   ],
   "source": [
    "l=[10,20,30,40,50]\n",
    "print(l)\n",
    "print(l[3]) #the list starts from 0,so the 4th element in the index is 40\n",
    "print(l[-1])\n",
    "print(l[-2])#likewise in reverse order the last element is -1 and the second last element is -2\n"
   ]
  },
  {
   "cell_type": "code",
   "execution_count": 30,
   "id": "ee8a632b",
   "metadata": {},
   "outputs": [
    {
     "name": "stdout",
     "output_type": "stream",
     "text": [
      "[10, 20, 30, 40, 50, 30]\n",
      "[10, 15, 20, 30, 40, 50, 30]\n",
      "True\n",
      "2\n",
      "3\n",
      "6\n"
     ]
    }
   ],
   "source": [
    "l.append(30)\n",
    "print(l)\n",
    "l.insert(1,15)\n",
    "print(l)\n",
    "print(15 in l)\n",
    "print(l.count(30))\n",
    "print(l.index(30))\n",
    "print(l.index(30,4,7))\n",
    "\n"
   ]
  },
  {
   "cell_type": "code",
   "execution_count": 31,
   "id": "2546cdc9",
   "metadata": {},
   "outputs": [
    {
     "name": "stdout",
     "output_type": "stream",
     "text": [
      "[10, 20, 40, 50, 60, 70, 80]\n",
      "80\n",
      "[10, 20, 40, 50, 60, 70]\n",
      "40\n",
      "[10, 50, 60, 70]\n",
      "[60, 70]\n"
     ]
    }
   ],
   "source": [
    "l=[10,20,30,40,50,60,70,80]\n",
    "l.remove(30)\n",
    "print(l)\n",
    "print(l.pop())\n",
    "print(l)\n",
    "print(l.pop(2))\n",
    "\n",
    "del l[1]\n",
    "print(l)\n",
    "del l[0:2]\n",
    "print(l)"
   ]
  },
  {
   "cell_type": "code",
   "execution_count": 32,
   "id": "2f3e952b",
   "metadata": {},
   "outputs": [
    {
     "name": "stdout",
     "output_type": "stream",
     "text": [
      "50\n",
      "10\n",
      "120\n",
      "[50, 20, 40, 10]\n",
      "[10, 20, 40, 50]\n"
     ]
    }
   ],
   "source": [
    "l=[10,40,20,50]\n",
    "print(max(l))\n",
    "print(min(l))\n",
    "print(sum(l))\n",
    "l.reverse()\n",
    "print(l)\n",
    "l.sort()\n",
    "print(l)"
   ]
  },
  {
   "cell_type": "markdown",
   "id": "e29b2056",
   "metadata": {},
   "source": [
    "Tuple in python"
   ]
  },
  {
   "cell_type": "code",
   "execution_count": 33,
   "id": "4524d395",
   "metadata": {},
   "outputs": [
    {
     "name": "stdout",
     "output_type": "stream",
     "text": [
      "(10, 20, 'geek')\n",
      "<class 'tuple'>\n",
      "<class 'tuple'>\n"
     ]
    }
   ],
   "source": [
    "t=(10,20,\"geek\")#cant be change in tuple\n",
    "print(t)\n",
    "print(type(t))\n",
    "t=(10)#this is int \n",
    "t=(10,)#this is tuple\n",
    "print(type(t))"
   ]
  },
  {
   "cell_type": "code",
   "execution_count": 34,
   "id": "59dce4cf",
   "metadata": {},
   "outputs": [
    {
     "name": "stdout",
     "output_type": "stream",
     "text": [
      "30\n",
      "10\n",
      "(20, 30, 40)\n",
      "5\n",
      "2\n",
      "1\n"
     ]
    }
   ],
   "source": [
    "t=(10,20,30,40,10)\n",
    "print(t[2])\n",
    "print(t[-1])\n",
    "print(t[1:4])\n",
    "print(len(t))\n",
    "print(t.count(10))\n",
    "print(t.index(20))"
   ]
  },
  {
   "cell_type": "markdown",
   "id": "78ca9a38",
   "metadata": {},
   "source": [
    "set in python"
   ]
  },
  {
   "cell_type": "code",
   "execution_count": 35,
   "id": "d464a701",
   "metadata": {},
   "outputs": [
    {
     "name": "stdout",
     "output_type": "stream",
     "text": [
      "{40, 20, 30}\n",
      "{10, 20, 30}\n",
      "<class 'dict'>\n",
      "<class 'set'>\n",
      "set()\n"
     ]
    }
   ],
   "source": [
    "s1={20,30,40}\n",
    "print(s1)\n",
    "s2=set([10,20,30])\n",
    "print(s2)\n",
    "s3={}\n",
    "print(type(s3))\n",
    "s4=set()\n",
    "print(type(s4))\n",
    "print(s4)"
   ]
  },
  {
   "cell_type": "code",
   "execution_count": 36,
   "id": "1d770792",
   "metadata": {},
   "outputs": [
    {
     "name": "stdout",
     "output_type": "stream",
     "text": [
      "{10, 20, 30}\n",
      "{40, 10, 50, 20, 30}\n",
      "{70, 40, 10, 80, 50, 20, 90, 60, 30}\n"
     ]
    }
   ],
   "source": [
    "s={10,20}\n",
    "s.add(30)\n",
    "print(s)\n",
    "s.update([40,50])\n",
    "print(s)\n",
    "s.update({60,70},{80,90})\n",
    "print(s)\n"
   ]
  },
  {
   "cell_type": "markdown",
   "id": "29d9d904",
   "metadata": {},
   "source": [
    "set element removing function"
   ]
  },
  {
   "cell_type": "code",
   "execution_count": 37,
   "id": "fa4e5a42",
   "metadata": {},
   "outputs": [
    {
     "name": "stdout",
     "output_type": "stream",
     "text": [
      "{40, 10, 20}\n",
      "{40, 10}\n",
      "set()\n",
      "{50}\n"
     ]
    }
   ],
   "source": [
    "s={10,30,20,40}\n",
    "s.discard(30)\n",
    "print(s)\n",
    "s.remove(20)\n",
    "print(s)\n",
    "s.clear()\n",
    "print(s)\n",
    "s.add(50)\n",
    "print(s)\n",
    "del s   #deletes the set\n"
   ]
  },
  {
   "cell_type": "code",
   "execution_count": 38,
   "id": "50831cef",
   "metadata": {},
   "outputs": [
    {
     "name": "stdout",
     "output_type": "stream",
     "text": [
      "4\n",
      "True\n",
      "False\n"
     ]
    }
   ],
   "source": [
    "s={10,30,20,40}\n",
    "print(len(s))\n",
    "print(20 in s)\n",
    "print(50 in s)"
   ]
  },
  {
   "cell_type": "code",
   "execution_count": 39,
   "id": "7cb27f06",
   "metadata": {},
   "outputs": [
    {
     "name": "stdout",
     "output_type": "stream",
     "text": [
      "{20, 40, 10, 30}\n",
      "{20, 30}\n",
      "{10}\n",
      "{40, 10}\n"
     ]
    }
   ],
   "source": [
    "s1={10,20,30}\n",
    "s2={20,30,40}\n",
    "print(s1 | s2) #union print(s1.union(s2))\n",
    "print(s1 & s2) #intersection print(s1.intersection(s2))\n",
    "print(s1 - s2) #difference print(s1.difference(s2))\n",
    "print(s1 ^ s2) #symmetric difference print(s1.symmetric_difference(s2))\n"
   ]
  },
  {
   "cell_type": "code",
   "execution_count": 40,
   "id": "e4f13148",
   "metadata": {},
   "outputs": [
    {
     "name": "stdout",
     "output_type": "stream",
     "text": [
      "False\n",
      "False\n",
      "True\n",
      "False\n",
      "True\n"
     ]
    }
   ],
   "source": [
    "s1={2,4,6,8}\n",
    "s2={4,8}\n",
    "print(s1.isdisjoint(s2)) #checks if two sets have no elements in common\n",
    "print(s1 <= s2) #checks if s1 is a subset of s2\n",
    "print(s1 >= s2) #checks if s1 is a superset of s2\n",
    "print(s1 < s2) #checks if s1 is a proper subset of s2\n",
    "print(s1 > s2) #checks if s1 is a proper superset of s2\n"
   ]
  },
  {
   "cell_type": "markdown",
   "id": "799e96c4",
   "metadata": {},
   "source": [
    "Dictionary in python"
   ]
  },
  {
   "cell_type": "code",
   "execution_count": null,
   "id": "38faeae9",
   "metadata": {},
   "outputs": [
    {
     "name": "stdout",
     "output_type": "stream",
     "text": [
      "{'name': 'Alice', 'age': 22, 'courses': ['Math', 'CompSci']}\n",
      "Alice\n",
      "22\n",
      "{'name': 'Alice', 'age': 23, 'courses': ['Math', 'CompSci'], 'grade': 'A'}\n",
      "{'name': 'Alice', 'age': 23, 'grade': 'A'}\n",
      "name: Alice\n",
      "age: 23\n",
      "grade: A\n",
      "True\n",
      "False\n"
     ]
    }
   ],
   "source": [
    "# A dictionary in Python is a collection of key-value pairs.\n",
    "# Keys must be unique and immutable (like strings, numbers, or tuples).\n",
    "# Values can be of any type and can be repeated.\n",
    "\n",
    "# Creating a dictionary\n",
    "student = {\n",
    "    \"name\": \"Alice\",\n",
    "    \"age\": 22,\n",
    "    \"courses\": [\"Math\", \"CompSci\"]\n",
    "}\n",
    "print(student)\n",
    "\n",
    "# Accessing values using keys\n",
    "print(student[\"name\"])      # Output: Alice\n",
    "print(student.get(\"age\"))   # Output: 22\n",
    "\n",
    "# Adding or updating values\n",
    "student[\"grade\"] = \"A\"\n",
    "student[\"age\"] = 23\n",
    "print(student)\n",
    "\n",
    "# Removing a key-value pair\n",
    "del student[\"courses\"]\n",
    "print(student)\n",
    "\n"
   ]
  },
  {
   "cell_type": "code",
   "execution_count": 42,
   "id": "09bf3195",
   "metadata": {},
   "outputs": [
    {
     "name": "stdout",
     "output_type": "stream",
     "text": [
      "{1: 'gfg', 2: 'ide', 3: 'cs'}\n",
      "{'laptop': 40000, 'mobile': 20000, 'earphone': 1000}\n",
      "40000\n"
     ]
    }
   ],
   "source": [
    "d={1:\"gfg\",2:\"ide\",3:\"cs\"}\n",
    "print(d)\n",
    "d={}\n",
    "d[\"laptop\"]=40000\n",
    "d[\"mobile\"]=20000\n",
    "d[\"earphone\"]=1000\n",
    "print(d)\n",
    "print(d[\"laptop\"])"
   ]
  },
  {
   "cell_type": "code",
   "execution_count": 43,
   "id": "0b3eefd1",
   "metadata": {},
   "outputs": [
    {
     "name": "stdout",
     "output_type": "stream",
     "text": [
      "ide\n",
      "None\n",
      "Not Found\n"
     ]
    }
   ],
   "source": [
    "d={110: \"gfg\", 120: \"ide\", 130: \"cs\"}\n",
    "print(d.get(120))  # Output: ide\n",
    "print(d.get(140)) # Output: None (default value if key not found)\n",
    "print(d.get(140, \"Not Found\")) # Output: Not Found (custom default value) \n"
   ]
  },
  {
   "cell_type": "code",
   "execution_count": 1,
   "id": "0984c028",
   "metadata": {},
   "outputs": [
    {
     "name": "stdout",
     "output_type": "stream",
     "text": [
      "3\n",
      "{110: 'geeksforgeeks', 120: 'ide', 130: 'cs'}\n",
      "ide\n",
      "{110: 'geeksforgeeks', 130: 'cs'}\n",
      "{110: 'geeksforgeeks'}\n",
      "(110, 'geeksforgeeks')\n"
     ]
    }
   ],
   "source": [
    "d={110:\"gfg\", 120:\"ide\", 130:\"cs\"}\n",
    "d[110]=\"geeksforgeeks\"\n",
    "print(len(d))  # Output: 3 (number of key-value pairs)\n",
    "print(d)\n",
    "print(d.pop(120))  # Output: ide (removes and returns the value for key 120)\n",
    "print(d)  # Output: {110: 'geeksforgeeks', 130: 'cs'}\n",
    "del d[130]  # Removes the key-value pair with key 130\n",
    "print(d)  # Output: {110: 'geeksforgeeks'}\n",
    "print(d.popitem()) # This will raise an error because popitem() is not called correctly\n",
    " "
   ]
  },
  {
   "cell_type": "markdown",
   "id": "0afe802c",
   "metadata": {},
   "source": [
    "Type Conversion In Python\n"
   ]
  },
  {
   "cell_type": "code",
   "execution_count": 2,
   "id": "bbf3e685",
   "metadata": {},
   "outputs": [
    {
     "name": "stdout",
     "output_type": "stream",
     "text": [
      "30.5\n",
      "11\n"
     ]
    }
   ],
   "source": [
    "# example of implicit type conversion\n",
    "a = 10    # int\n",
    "b = 20.5  # float\n",
    "c = a + b  # implicit conversion of int to float\n",
    "print(c)  # Output: 30.5 (float)\n",
    "d=True\n",
    "e=a+d\n",
    "print(e)  # Output: 11 (int + bool, where True is treated as 1)"
   ]
  },
  {
   "cell_type": "code",
   "execution_count": null,
   "id": "af950c07",
   "metadata": {},
   "outputs": [
    {
     "name": "stdout",
     "output_type": "stream",
     "text": [
      "145.0\n",
      "145\n"
     ]
    }
   ],
   "source": [
    "#explicit type conversion\n",
    "s=\"135\"\n",
    "i=10+int(s)  # Convert string to int and add to i\n",
    "f=float(i)  # Convert the result to float\n",
    "print(f)  # Output: 145.0 (float)\n",
    "print(i)  # Output: 145 (int)"
   ]
  },
  {
   "cell_type": "code",
   "execution_count": 4,
   "id": "6e1be7c2",
   "metadata": {},
   "outputs": [
    {
     "name": "stdout",
     "output_type": "stream",
     "text": [
      "['g', 'f', 'g']\n",
      "('g', 'f', 'g')\n",
      "{'f', 'g'}\n"
     ]
    }
   ],
   "source": [
    "s=\"gfg\"\n",
    "print(list(s))  # Convert string to list of characters\n",
    "print(tuple(s))  # Convert string to tuple of characters\n",
    "print(set(s))  # Convert string to set of characters (duplicates removed)"
   ]
  },
  {
   "cell_type": "code",
   "execution_count": 8,
   "id": "5c1c9380",
   "metadata": {},
   "outputs": [
    {
     "name": "stdout",
     "output_type": "stream",
     "text": [
      "['a', 'b', 'c']\n",
      "1020\n",
      "12.5\n"
     ]
    }
   ],
   "source": [
    "i=['a','b','c']\n",
    "print(str(i))  # Convert list to string\n",
    "a=10\n",
    "b=20\n",
    "print(str(a) + str(b))  # Convert integers to strings and concatenate   \n",
    "c=12.5\n",
    "print(str(c))  # Convert float to string"
   ]
  },
  {
   "cell_type": "code",
   "execution_count": 9,
   "id": "0c9b311e",
   "metadata": {},
   "outputs": [
    {
     "name": "stdout",
     "output_type": "stream",
     "text": [
      "[10, 20, 30]\n",
      "[10, 20, 30]\n"
     ]
    }
   ],
   "source": [
    "t=(10,20,30)\n",
    "print(list(t))  # Convert tuple to list\n",
    "s={10,20,30}\n",
    "print(list(s))  # Convert set to list"
   ]
  },
  {
   "cell_type": "code",
   "execution_count": 10,
   "id": "fc9bd2a1",
   "metadata": {},
   "outputs": [
    {
     "name": "stdout",
     "output_type": "stream",
     "text": [
      "0b10100\n",
      "0o24\n",
      "0x14\n"
     ]
    }
   ],
   "source": [
    "a=20\n",
    "print(bin(a))  # Convert integer to binary string\n",
    "print(oct(a))  # Convert integer to octal string        \n",
    "print(hex(a))  # Convert integer to hexadecimal string  "
   ]
  },
  {
   "cell_type": "code",
   "execution_count": null,
   "id": "a9ea090a",
   "metadata": {},
   "outputs": [],
   "source": [
    "a=\"1001\"\n",
    "print(int(a, 2))  # Convert binary string to integer\n",
    "b=\"23\"\n",
    "print(int(b, 8))  # Convert octal string to integer\n",
    "c=\"A1\"\n",
    "print(int(c, 16))  # Convert hexadecimal string to integer"
   ]
  },
  {
   "cell_type": "code",
   "execution_count": null,
   "id": "80c1d7e3",
   "metadata": {},
   "outputs": [],
   "source": []
  },
  {
   "cell_type": "code",
   "execution_count": null,
   "id": "dbac5490",
   "metadata": {},
   "outputs": [],
   "source": []
  },
  {
   "cell_type": "code",
   "execution_count": null,
   "id": "843eabe1",
   "metadata": {},
   "outputs": [],
   "source": []
  }
 ],
 "metadata": {
  "kernelspec": {
   "display_name": "Python (venv)",
   "language": "python",
   "name": "venv"
  },
  "language_info": {
   "codemirror_mode": {
    "name": "ipython",
    "version": 3
   },
   "file_extension": ".py",
   "mimetype": "text/x-python",
   "name": "python",
   "nbconvert_exporter": "python",
   "pygments_lexer": "ipython3",
   "version": "3.12.0"
  }
 },
 "nbformat": 4,
 "nbformat_minor": 5
}
